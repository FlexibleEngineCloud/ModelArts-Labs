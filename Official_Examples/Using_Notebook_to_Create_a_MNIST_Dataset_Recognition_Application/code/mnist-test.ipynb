{
 "cells": [
  {
   "cell_type": "markdown",
   "metadata": {},
   "source": [
    "# Using MoXing to recognize handwritten number "
   ]
  },
  {
   "cell_type": "markdown",
   "metadata": {},
   "source": [
    "This content mainly introduces how to use MoXing to implement training and testing applications of handwritten digital images.\n",
    "\n",
    "## 1. Preparing Data\n",
    "\n",
    "Download the MNIST data set from the mnist_data object in the mnist bucket of obs and upload it to the private OBS bucket. You can fidn data here:\n",
    "\n",
    "https://modelarts-labs.oss.eu-west-0.prod-cloud-ocb.orange-business.com/dataset-mnist/zip-data/t10k-images-idx3-ubyte.gz\n",
    "\n",
    "https://modelarts-labs.oss.eu-west-0.prod-cloud-ocb.orange-business.com/dataset-mnist/zip-data/t10k-labels-idx1-ubyte.gz\n",
    "\n",
    "https://modelarts-labs.oss.eu-west-0.prod-cloud-ocb.orange-business.com/dataset-mnist/zip-data/train-images-idx3-ubyte.gz\n",
    "\n",
    "https://modelarts-labs.oss.eu-west-0.prod-cloud-ocb.orange-business.com/dataset-mnist/zip-data/train-labels-idx1-ubyte.gz\n",
    "\n",
    "### 1.1 Download the MNIST data set, the data set file description is as follows:\n",
    "\n",
    "t10k-images-idx3-ubyte.gz: The verification set contains 10,000 samples in total.\n",
    "\n",
    "t10k-labels-idx1-ubyte.gz: Validation set labels, including category labels for 10,000 samples.\n",
    "\n",
    "train-images-idx3-ubyte.gz: The training set contains a total of 60,000 samples.\n",
    "\n",
    "train-labels-idx1-ubyte.gz: training set labels, including category labels for 60,000 samples.\n",
    "\n",
    "### 1.2 The .gz data does not need to be decompressed and uploaded to Your Flexible Engine OBS bucket separately. The data path will be set to data_url"
   ]
  },
  {
   "cell_type": "markdown",
   "metadata": {},
   "source": [
    "## 2. Training The Model\n",
    "\n",
    "Load MoXing's tensorflow module moxing.tensorflow by import"
   ]
  },
  {
   "cell_type": "code",
   "execution_count": 3,
   "metadata": {},
   "outputs": [
    {
     "name": "stderr",
     "output_type": "stream",
     "text": [
      "INFO:root:Using MoXing-v1.15.1-3fc51aac\n",
      "INFO:root:Using OBS-Python-SDK-3.1.2\n",
      "INFO:tensorflow:Using TensorFlow-b'v1.13.1-0-g6612da8951'\n"
     ]
    }
   ],
   "source": [
    "import moxing.tensorflow as mox\n",
    "import os"
   ]
  },
  {
   "cell_type": "markdown",
   "metadata": {},
   "source": [
    "Set data_url and train_url according to data storage and data output"
   ]
  },
  {
   "cell_type": "code",
   "execution_count": 4,
   "metadata": {},
   "outputs": [],
   "source": [
    "data_url = 's3://modelarts-labs/dataset-mnist/zip-data/' "
   ]
  },
  {
   "cell_type": "code",
   "execution_count": 6,
   "metadata": {},
   "outputs": [],
   "source": [
    "# https://github.com/huaweicloud/ModelArts-Lab/blob/master/official_examples/Using_Notebook_to_Create_a_MNIST_Dataset_Recognition_Application/code/mnist_example.ipynb\n",
    "train_url = './cache/log/'\n",
    "if not mox.file.exists(data_url):\n",
    "    raise ValueError('Plese verify your data url!')\n",
    "if mox.file.exists(train_url):\n",
    "    mox.file.remove(train_url,recursive=True)\n",
    "mox.file.make_dirs(train_url)"
   ]
  },
  {
   "cell_type": "markdown",
   "metadata": {},
   "source": [
    "The data can be copied locally through mox, which can speed up training. The operation is as follows:"
   ]
  },
  {
   "cell_type": "code",
   "execution_count": 7,
   "metadata": {},
   "outputs": [],
   "source": [
    "local_url = './cache/local_data/'\n",
    "if mox.file.exists(local_url):\n",
    "    mox.file.remove(local_url,recursive=True)\n",
    "os.makedirs(local_url)"
   ]
  },
  {
   "cell_type": "code",
   "execution_count": 8,
   "metadata": {},
   "outputs": [
    {
     "data": {
      "text/plain": [
       "['t10k-images-idx3-ubyte.gz',\n",
       " 't10k-labels-idx1-ubyte.gz',\n",
       " 'train-images-idx3-ubyte.gz',\n",
       " 'train-labels-idx1-ubyte.gz']"
      ]
     },
     "execution_count": 8,
     "metadata": {},
     "output_type": "execute_result"
    }
   ],
   "source": [
    "mox.file.copy_parallel(data_url, local_url)\n",
    "data_url = local_url\n",
    "os.listdir(data_url)"
   ]
  },
  {
   "cell_type": "code",
   "execution_count": 9,
   "metadata": {},
   "outputs": [],
   "source": [
    "from tensorflow.examples.tutorials.mnist import input_data\n",
    "import tensorflow as tf\n",
    "from __future__ import print_function\n",
    "from __future__ import unicode_literals"
   ]
  },
  {
   "cell_type": "code",
   "execution_count": 10,
   "metadata": {},
   "outputs": [],
   "source": [
    "tf.flags.DEFINE_string('data_url', None, 'Dir of dataset')\n",
    "tf.flags.DEFINE_string('train_url', None, 'Train Url')\n",
    "\n",
    "flags = tf.flags.FLAGS\n",
    "\n",
    "filenames = ['train-images-idx3-ubyte.gz','train-labels-idx1-ubyte.gz','t10k-images-idx3-ubyte.gz',\n",
    "             't10k-labels-idx1-ubyte.gz']\n",
    "\n",
    "for filename in filenames:\n",
    "  filepath = os.path.join(data_url, filename)\n",
    "  if not mox.file.exists(filepath):\n",
    "    raise ValueError('MNIST dataset file %s not found in %s' % (filepath, local_url))"
   ]
  },
  {
   "cell_type": "code",
   "execution_count": 11,
   "metadata": {},
   "outputs": [
    {
     "name": "stderr",
     "output_type": "stream",
     "text": [
      "WARNING:tensorflow:From <ipython-input-11-b48cf99d7201>:4: read_data_sets (from tensorflow.contrib.learn.python.learn.datasets.mnist) is deprecated and will be removed in a future version.\n",
      "Instructions for updating:\n",
      "Please use alternatives such as official/mnist/dataset.py from tensorflow/models.\n",
      "WARNING:tensorflow:From /home/ma-user/anaconda3/envs/TensorFlow-1.13.1/lib/python3.6/site-packages/tensorflow/contrib/learn/python/learn/datasets/mnist.py:260: maybe_download (from tensorflow.contrib.learn.python.learn.datasets.base) is deprecated and will be removed in a future version.\n",
      "Instructions for updating:\n",
      "Please write your own downloading logic.\n",
      "WARNING:tensorflow:From /home/ma-user/anaconda3/envs/TensorFlow-1.13.1/lib/python3.6/site-packages/tensorflow/contrib/learn/python/learn/datasets/mnist.py:262: extract_images (from tensorflow.contrib.learn.python.learn.datasets.mnist) is deprecated and will be removed in a future version.\n",
      "Instructions for updating:\n",
      "Please use tf.data to implement this functionality.\n"
     ]
    },
    {
     "name": "stdout",
     "output_type": "stream",
     "text": [
      "Extracting ./cache/local_data/train-images-idx3-ubyte.gz\n"
     ]
    },
    {
     "name": "stderr",
     "output_type": "stream",
     "text": [
      "WARNING:tensorflow:From /home/ma-user/anaconda3/envs/TensorFlow-1.13.1/lib/python3.6/site-packages/tensorflow/contrib/learn/python/learn/datasets/mnist.py:267: extract_labels (from tensorflow.contrib.learn.python.learn.datasets.mnist) is deprecated and will be removed in a future version.\n",
      "Instructions for updating:\n",
      "Please use tf.data to implement this functionality.\n",
      "WARNING:tensorflow:From /home/ma-user/anaconda3/envs/TensorFlow-1.13.1/lib/python3.6/site-packages/tensorflow/contrib/learn/python/learn/datasets/mnist.py:110: dense_to_one_hot (from tensorflow.contrib.learn.python.learn.datasets.mnist) is deprecated and will be removed in a future version.\n",
      "Instructions for updating:\n",
      "Please use tf.one_hot on tensors.\n",
      "WARNING:tensorflow:From /home/ma-user/anaconda3/envs/TensorFlow-1.13.1/lib/python3.6/site-packages/tensorflow/contrib/learn/python/learn/datasets/mnist.py:290: DataSet.__init__ (from tensorflow.contrib.learn.python.learn.datasets.mnist) is deprecated and will be removed in a future version.\n",
      "Instructions for updating:\n",
      "Please use alternatives such as official/mnist/dataset.py from tensorflow/models.\n"
     ]
    },
    {
     "name": "stdout",
     "output_type": "stream",
     "text": [
      "Extracting ./cache/local_data/train-labels-idx1-ubyte.gz\n",
      "Extracting ./cache/local_data/t10k-images-idx3-ubyte.gz\n",
      "Extracting ./cache/local_data/t10k-labels-idx1-ubyte.gz\n"
     ]
    },
    {
     "name": "stderr",
     "output_type": "stream",
     "text": [
      "WARNING:tensorflow:From /home/ma-user/anaconda3/envs/TensorFlow-1.13.1/lib/python3.6/site-packages/tensorflow/python/framework/op_def_library.py:263: colocate_with (from tensorflow.python.framework.ops) is deprecated and will be removed in a future version.\n",
      "Instructions for updating:\n",
      "Colocations handled automatically by placer.\n",
      "WARNING:tensorflow:From /home/ma-user/anaconda3/envs/TensorFlow-1.13.1/lib/python3.6/site-packages/tensorflow/python/data/ops/dataset_ops.py:429: py_func (from tensorflow.python.ops.script_ops) is deprecated and will be removed in a future version.\n",
      "Instructions for updating:\n",
      "tf.py_func is deprecated in TF V2. Instead, use\n",
      "    tf.py_function, which takes a python function which manipulates tf eager\n",
      "    tensors instead of numpy arrays. It's easy to convert a tf eager tensor to\n",
      "    an ndarray (just call tensor.numpy()) but having access to eager tensors\n",
      "    means `tf.py_function`s can use accelerators such as GPUs as well as\n",
      "    being differentiable using a gradient tape.\n",
      "    \n",
      "WARNING:tensorflow:From /home/ma-user/anaconda3/envs/TensorFlow-1.13.1/lib/python3.6/site-packages/tensorflow/contrib/slim/python/slim/data/prefetch_queue.py:88: QueueRunner.__init__ (from tensorflow.python.training.queue_runner_impl) is deprecated and will be removed in a future version.\n",
      "Instructions for updating:\n",
      "To construct input pipelines, use the `tf.data` module.\n",
      "WARNING:tensorflow:From /home/ma-user/anaconda3/envs/TensorFlow-1.13.1/lib/python3.6/site-packages/tensorflow/contrib/slim/python/slim/data/prefetch_queue.py:88: add_queue_runner (from tensorflow.python.training.queue_runner_impl) is deprecated and will be removed in a future version.\n",
      "Instructions for updating:\n",
      "To construct input pipelines, use the `tf.data` module.\n",
      "WARNING:tensorflow:From /home/ma-user/anaconda3/envs/TensorFlow-1.13.1/lib/python3.6/site-packages/tensorflow/contrib/slim/python/slim/data/prefetch_queue.py:90: to_float (from tensorflow.python.ops.math_ops) is deprecated and will be removed in a future version.\n",
      "Instructions for updating:\n",
      "Use tf.cast instead.\n",
      "WARNING:tensorflow:From <ipython-input-11-b48cf99d7201>:25: softmax_cross_entropy_with_logits (from tensorflow.python.ops.nn_ops) is deprecated and will be removed in a future version.\n",
      "Instructions for updating:\n",
      "\n",
      "Future major versions of TensorFlow will allow gradients to flow\n",
      "into the labels input on backprop by default.\n",
      "\n",
      "See `tf.nn.softmax_cross_entropy_with_logits_v2`.\n",
      "\n",
      "INFO:tensorflow:Create CheckpointSaverHook.\n",
      "INFO:tensorflow:Graph was finalized.\n",
      "INFO:tensorflow:Running local_init_op.\n",
      "INFO:tensorflow:Done running local_init_op.\n",
      "WARNING:tensorflow:From /home/ma-user/anaconda3/envs/TensorFlow-1.13.1/lib/python3.6/site-packages/tensorflow/python/training/monitored_session.py:809: start_queue_runners (from tensorflow.python.training.queue_runner_impl) is deprecated and will be removed in a future version.\n",
      "Instructions for updating:\n",
      "To construct input pipelines, use the `tf.data` module.\n",
      "INFO:tensorflow:Saving checkpoints for 0 into ./cache/log/model.ckpt.\n",
      "INFO:tensorflow:Running will end at step: 50\n",
      "INFO:tensorflow:step: 0(global step: 0)\tsample/sec: 18.620\tloss: 2.303\taccuracy: 0.160\n",
      "INFO:tensorflow:step: 10(global step: 10)\tsample/sec: 34239.216\tloss: 2.182\taccuracy: 0.460\n",
      "INFO:tensorflow:step: 20(global step: 20)\tsample/sec: 36695.573\tloss: 2.127\taccuracy: 0.540\n",
      "INFO:tensorflow:step: 30(global step: 30)\tsample/sec: 34646.489\tloss: 2.018\taccuracy: 0.700\n",
      "INFO:tensorflow:step: 40(global step: 40)\tsample/sec: 30890.440\tloss: 1.927\taccuracy: 0.680\n",
      "INFO:tensorflow:Sync to send FPS to non-chief workers.\n",
      "INFO:tensorflow:Saving checkpoints for 50 into ./cache/log/model.ckpt.\n",
      "WARNING:tensorflow:From <ipython-input-11-b48cf99d7201>:43: checkpoint_exists (from tensorflow.python.training.checkpoint_management) is deprecated and will be removed in a future version.\n",
      "Instructions for updating:\n",
      "Use standard file APIs to check for files with this prefix.\n",
      "INFO:tensorflow:Create CheckpointSaverHook.\n",
      "INFO:tensorflow:Graph was finalized.\n",
      "INFO:tensorflow:Restoring parameters from ./cache/log/model.ckpt-50\n",
      "WARNING:tensorflow:From /home/ma-user/anaconda3/envs/TensorFlow-1.13.1/lib/python3.6/site-packages/tensorflow/python/training/saver.py:1070: get_checkpoint_mtimes (from tensorflow.python.training.checkpoint_management) is deprecated and will be removed in a future version.\n",
      "Instructions for updating:\n",
      "Use standard file utilities to get mtimes.\n",
      "INFO:tensorflow:Running local_init_op.\n",
      "INFO:tensorflow:Done running local_init_op.\n",
      "INFO:tensorflow:Saving checkpoints for 50 into ./cache/log/model.ckpt.\n",
      "INFO:tensorflow:Running will end at step: 100\n",
      "INFO:tensorflow:step: 50(global step: 50)\tsample/sec: 840.673\tloss: 1.915\taccuracy: 0.580\n",
      "INFO:tensorflow:step: 60(global step: 60)\tsample/sec: 36523.023\tloss: 1.793\taccuracy: 0.700\n",
      "INFO:tensorflow:step: 70(global step: 70)\tsample/sec: 42469.664\tloss: 1.731\taccuracy: 0.740\n",
      "INFO:tensorflow:step: 80(global step: 80)\tsample/sec: 37302.597\tloss: 1.679\taccuracy: 0.780\n",
      "INFO:tensorflow:step: 90(global step: 90)\tsample/sec: 33282.844\tloss: 1.556\taccuracy: 0.720\n",
      "INFO:tensorflow:Sync to send FPS to non-chief workers.\n",
      "INFO:tensorflow:Saving checkpoints for 100 into ./cache/log/model.ckpt.\n",
      "INFO:tensorflow:Create CheckpointSaverHook.\n",
      "INFO:tensorflow:Graph was finalized.\n",
      "INFO:tensorflow:Restoring parameters from ./cache/log/model.ckpt-100\n",
      "INFO:tensorflow:Running local_init_op.\n",
      "INFO:tensorflow:Done running local_init_op.\n",
      "INFO:tensorflow:Saving checkpoints for 100 into ./cache/log/model.ckpt.\n",
      "INFO:tensorflow:Running will end at step: 150\n",
      "INFO:tensorflow:step: 100(global step: 100)\tsample/sec: 834.382\tloss: 1.591\taccuracy: 0.780\n",
      "INFO:tensorflow:step: 110(global step: 110)\tsample/sec: 35830.378\tloss: 1.525\taccuracy: 0.780\n",
      "INFO:tensorflow:step: 120(global step: 120)\tsample/sec: 38742.878\tloss: 1.461\taccuracy: 0.780\n",
      "INFO:tensorflow:step: 130(global step: 130)\tsample/sec: 37098.036\tloss: 1.436\taccuracy: 0.740\n",
      "INFO:tensorflow:step: 140(global step: 140)\tsample/sec: 40052.559\tloss: 1.406\taccuracy: 0.760\n",
      "INFO:tensorflow:Sync to send FPS to non-chief workers.\n",
      "INFO:tensorflow:Saving checkpoints for 150 into ./cache/log/model.ckpt.\n",
      "INFO:tensorflow:Create CheckpointSaverHook.\n",
      "INFO:tensorflow:Graph was finalized.\n",
      "INFO:tensorflow:Restoring parameters from ./cache/log/model.ckpt-150\n",
      "INFO:tensorflow:Running local_init_op.\n",
      "INFO:tensorflow:Done running local_init_op.\n",
      "INFO:tensorflow:Saving checkpoints for 150 into ./cache/log/model.ckpt.\n",
      "INFO:tensorflow:Running will end at step: 200\n",
      "INFO:tensorflow:step: 150(global step: 150)\tsample/sec: 846.906\tloss: 1.236\taccuracy: 0.860\n",
      "INFO:tensorflow:step: 160(global step: 160)\tsample/sec: 38642.933\tloss: 1.425\taccuracy: 0.700\n",
      "INFO:tensorflow:step: 170(global step: 170)\tsample/sec: 38304.146\tloss: 1.263\taccuracy: 0.840\n",
      "INFO:tensorflow:step: 180(global step: 180)\tsample/sec: 36176.505\tloss: 1.219\taccuracy: 0.820\n",
      "INFO:tensorflow:step: 190(global step: 190)\tsample/sec: 36792.140\tloss: 1.186\taccuracy: 0.700\n",
      "INFO:tensorflow:Sync to send FPS to non-chief workers.\n",
      "INFO:tensorflow:Saving checkpoints for 200 into ./cache/log/model.ckpt.\n",
      "INFO:tensorflow:Create CheckpointSaverHook.\n",
      "INFO:tensorflow:Graph was finalized.\n",
      "INFO:tensorflow:Restoring parameters from ./cache/log/model.ckpt-200\n",
      "INFO:tensorflow:Running local_init_op.\n",
      "INFO:tensorflow:Done running local_init_op.\n",
      "INFO:tensorflow:Saving checkpoints for 200 into ./cache/log/model.ckpt.\n",
      "INFO:tensorflow:Running will end at step: 1000\n",
      "INFO:tensorflow:step: 200(global step: 200)\tsample/sec: 845.064\tloss: 1.143\taccuracy: 0.880\n",
      "INFO:tensorflow:step: 210(global step: 210)\tsample/sec: 36753.453\tloss: 1.143\taccuracy: 0.880\n",
      "INFO:tensorflow:step: 220(global step: 220)\tsample/sec: 39666.200\tloss: 1.173\taccuracy: 0.800\n",
      "INFO:tensorflow:step: 230(global step: 230)\tsample/sec: 40298.847\tloss: 1.097\taccuracy: 0.860\n",
      "INFO:tensorflow:step: 240(global step: 240)\tsample/sec: 32348.481\tloss: 1.114\taccuracy: 0.820\n",
      "INFO:tensorflow:step: 250(global step: 250)\tsample/sec: 37124.305\tloss: 1.128\taccuracy: 0.820\n",
      "INFO:tensorflow:step: 260(global step: 260)\tsample/sec: 36785.687\tloss: 1.041\taccuracy: 0.820\n",
      "INFO:tensorflow:step: 270(global step: 270)\tsample/sec: 33267.005\tloss: 1.222\taccuracy: 0.740\n",
      "INFO:tensorflow:step: 280(global step: 280)\tsample/sec: 37150.611\tloss: 1.031\taccuracy: 0.840\n",
      "INFO:tensorflow:step: 290(global step: 290)\tsample/sec: 31521.900\tloss: 0.951\taccuracy: 0.880\n",
      "INFO:tensorflow:global_step/sec: 498.804\n",
      "INFO:tensorflow:step: 300(global step: 300)\tsample/sec: 16174.240\tloss: 0.951\taccuracy: 0.860\n",
      "INFO:tensorflow:step: 310(global step: 310)\tsample/sec: 35702.281\tloss: 1.118\taccuracy: 0.680\n",
      "INFO:tensorflow:step: 320(global step: 320)\tsample/sec: 37362.409\tloss: 1.002\taccuracy: 0.800\n",
      "INFO:tensorflow:step: 330(global step: 330)\tsample/sec: 36170.266\tloss: 1.036\taccuracy: 0.820\n",
      "INFO:tensorflow:step: 340(global step: 340)\tsample/sec: 38750.037\tloss: 0.969\taccuracy: 0.840\n",
      "INFO:tensorflow:step: 350(global step: 350)\tsample/sec: 39449.812\tloss: 0.795\taccuracy: 0.960\n",
      "INFO:tensorflow:step: 360(global step: 360)\tsample/sec: 35081.164\tloss: 0.999\taccuracy: 0.780\n",
      "INFO:tensorflow:step: 370(global step: 370)\tsample/sec: 35496.818\tloss: 0.884\taccuracy: 0.860\n",
      "INFO:tensorflow:step: 380(global step: 380)\tsample/sec: 41120.627\tloss: 0.896\taccuracy: 0.820\n",
      "INFO:tensorflow:step: 390(global step: 390)\tsample/sec: 37489.310\tloss: 1.074\taccuracy: 0.780\n",
      "INFO:tensorflow:global_step/sec: 652.009\n",
      "INFO:tensorflow:step: 400(global step: 400)\tsample/sec: 16510.408\tloss: 0.785\taccuracy: 0.920\n",
      "INFO:tensorflow:step: 410(global step: 410)\tsample/sec: 35145.835\tloss: 0.896\taccuracy: 0.840\n",
      "INFO:tensorflow:step: 420(global step: 420)\tsample/sec: 44534.976\tloss: 0.836\taccuracy: 0.820\n",
      "INFO:tensorflow:step: 430(global step: 430)\tsample/sec: 37971.248\tloss: 0.813\taccuracy: 0.820\n",
      "INFO:tensorflow:step: 440(global step: 440)\tsample/sec: 38374.236\tloss: 0.885\taccuracy: 0.840\n",
      "INFO:tensorflow:step: 450(global step: 450)\tsample/sec: 37032.527\tloss: 0.978\taccuracy: 0.740\n",
      "INFO:tensorflow:step: 460(global step: 460)\tsample/sec: 40760.972\tloss: 0.852\taccuracy: 0.800\n",
      "INFO:tensorflow:step: 470(global step: 470)\tsample/sec: 38143.907\tloss: 0.645\taccuracy: 0.980\n",
      "INFO:tensorflow:step: 480(global step: 480)\tsample/sec: 37630.576\tloss: 0.845\taccuracy: 0.820\n",
      "INFO:tensorflow:step: 490(global step: 490)\tsample/sec: 29371.877\tloss: 0.726\taccuracy: 0.960\n",
      "INFO:tensorflow:global_step/sec: 677.826\n",
      "INFO:tensorflow:step: 500(global step: 500)\tsample/sec: 14712.726\tloss: 0.658\taccuracy: 0.860\n",
      "INFO:tensorflow:step: 510(global step: 510)\tsample/sec: 34464.289\tloss: 0.875\taccuracy: 0.820\n",
      "INFO:tensorflow:step: 520(global step: 520)\tsample/sec: 39089.506\tloss: 0.684\taccuracy: 0.880\n",
      "INFO:tensorflow:step: 530(global step: 530)\tsample/sec: 38757.198\tloss: 0.794\taccuracy: 0.840\n",
      "INFO:tensorflow:step: 540(global step: 540)\tsample/sec: 39155.190\tloss: 0.825\taccuracy: 0.820\n",
      "INFO:tensorflow:step: 550(global step: 550)\tsample/sec: 32881.029\tloss: 0.795\taccuracy: 0.840\n",
      "INFO:tensorflow:step: 560(global step: 560)\tsample/sec: 35629.494\tloss: 0.770\taccuracy: 0.820\n",
      "INFO:tensorflow:step: 570(global step: 570)\tsample/sec: 34144.448\tloss: 0.652\taccuracy: 0.900\n",
      "INFO:tensorflow:step: 580(global step: 580)\tsample/sec: 40952.002\tloss: 0.673\taccuracy: 0.920\n",
      "INFO:tensorflow:step: 590(global step: 590)\tsample/sec: 33978.483\tloss: 0.837\taccuracy: 0.840\n",
      "INFO:tensorflow:global_step/sec: 673.125\n",
      "INFO:tensorflow:step: 600(global step: 600)\tsample/sec: 18791.685\tloss: 0.687\taccuracy: 0.820\n",
      "INFO:tensorflow:step: 610(global step: 610)\tsample/sec: 34595.051\tloss: 0.762\taccuracy: 0.840\n",
      "INFO:tensorflow:step: 620(global step: 620)\tsample/sec: 34842.200\tloss: 0.703\taccuracy: 0.820\n",
      "INFO:tensorflow:step: 630(global step: 630)\tsample/sec: 32691.380\tloss: 0.757\taccuracy: 0.780\n",
      "INFO:tensorflow:step: 640(global step: 640)\tsample/sec: 41709.467\tloss: 0.923\taccuracy: 0.760\n",
      "INFO:tensorflow:step: 650(global step: 650)\tsample/sec: 39155.190\tloss: 0.589\taccuracy: 0.900\n",
      "INFO:tensorflow:step: 660(global step: 660)\tsample/sec: 35959.396\tloss: 0.766\taccuracy: 0.860\n",
      "INFO:tensorflow:step: 670(global step: 670)\tsample/sec: 40446.519\tloss: 0.736\taccuracy: 0.860\n",
      "INFO:tensorflow:step: 680(global step: 680)\tsample/sec: 41339.484\tloss: 0.714\taccuracy: 0.840\n",
      "INFO:tensorflow:step: 690(global step: 690)\tsample/sec: 35916.287\tloss: 0.748\taccuracy: 0.840\n",
      "INFO:tensorflow:global_step/sec: 667.392\n",
      "INFO:tensorflow:step: 700(global step: 700)\tsample/sec: 16777.216\tloss: 0.854\taccuracy: 0.800\n",
      "INFO:tensorflow:step: 710(global step: 710)\tsample/sec: 39831.947\tloss: 0.573\taccuracy: 0.880\n",
      "INFO:tensorflow:step: 720(global step: 720)\tsample/sec: 39360.961\tloss: 0.596\taccuracy: 0.880\n",
      "INFO:tensorflow:step: 730(global step: 730)\tsample/sec: 36383.622\tloss: 0.672\taccuracy: 0.860\n",
      "INFO:tensorflow:step: 740(global step: 740)\tsample/sec: 37098.036\tloss: 0.709\taccuracy: 0.800\n",
      "INFO:tensorflow:step: 750(global step: 750)\tsample/sec: 40532.509\tloss: 0.569\taccuracy: 0.900\n",
      "INFO:tensorflow:step: 760(global step: 760)\tsample/sec: 40175.326\tloss: 0.594\taccuracy: 0.860\n",
      "INFO:tensorflow:step: 770(global step: 770)\tsample/sec: 36535.749\tloss: 0.740\taccuracy: 0.840\n",
      "INFO:tensorflow:step: 780(global step: 780)\tsample/sec: 36101.773\tloss: 0.580\taccuracy: 0.920\n",
      "INFO:tensorflow:step: 790(global step: 790)\tsample/sec: 33716.270\tloss: 0.920\taccuracy: 0.800\n",
      "INFO:tensorflow:global_step/sec: 676.692\n",
      "INFO:tensorflow:step: 800(global step: 800)\tsample/sec: 13989.407\tloss: 0.537\taccuracy: 0.920\n",
      "INFO:tensorflow:step: 810(global step: 810)\tsample/sec: 34652.214\tloss: 0.646\taccuracy: 0.860\n",
      "INFO:tensorflow:step: 820(global step: 820)\tsample/sec: 31119.632\tloss: 0.749\taccuracy: 0.820\n",
      "INFO:tensorflow:step: 830(global step: 830)\tsample/sec: 37516.136\tloss: 0.613\taccuracy: 0.840\n",
      "INFO:tensorflow:step: 840(global step: 840)\tsample/sec: 41750.985\tloss: 0.698\taccuracy: 0.900\n",
      "INFO:tensorflow:step: 850(global step: 850)\tsample/sec: 35891.699\tloss: 0.676\taccuracy: 0.840\n",
      "INFO:tensorflow:step: 860(global step: 860)\tsample/sec: 39279.865\tloss: 0.664\taccuracy: 0.840\n",
      "INFO:tensorflow:step: 870(global step: 870)\tsample/sec: 31000.030\tloss: 0.643\taccuracy: 0.820\n",
      "INFO:tensorflow:step: 880(global step: 880)\tsample/sec: 33522.251\tloss: 0.520\taccuracy: 0.940\n",
      "INFO:tensorflow:step: 890(global step: 890)\tsample/sec: 40229.273\tloss: 0.571\taccuracy: 0.920\n",
      "INFO:tensorflow:global_step/sec: 676.361\n",
      "INFO:tensorflow:step: 900(global step: 900)\tsample/sec: 16191.723\tloss: 0.538\taccuracy: 0.860\n",
      "INFO:tensorflow:step: 910(global step: 910)\tsample/sec: 33356.959\tloss: 0.561\taccuracy: 0.900\n",
      "INFO:tensorflow:step: 920(global step: 920)\tsample/sec: 39272.509\tloss: 0.609\taccuracy: 0.820\n",
      "INFO:tensorflow:step: 930(global step: 930)\tsample/sec: 36605.900\tloss: 0.778\taccuracy: 0.800\n",
      "INFO:tensorflow:step: 940(global step: 940)\tsample/sec: 32762.881\tloss: 0.811\taccuracy: 0.740\n",
      "INFO:tensorflow:step: 950(global step: 950)\tsample/sec: 35496.818\tloss: 0.532\taccuracy: 0.860\n",
      "INFO:tensorflow:step: 960(global step: 960)\tsample/sec: 29925.114\tloss: 0.481\taccuracy: 0.920\n",
      "INFO:tensorflow:step: 970(global step: 970)\tsample/sec: 33737.967\tloss: 0.773\taccuracy: 0.740\n",
      "INFO:tensorflow:step: 980(global step: 980)\tsample/sec: 38012.543\tloss: 0.561\taccuracy: 0.920\n",
      "INFO:tensorflow:step: 990(global step: 990)\tsample/sec: 39309.316\tloss: 0.622\taccuracy: 0.880\n",
      "INFO:tensorflow:Saving checkpoints for 1000 into ./cache/log/model.ckpt.\n",
      "WARNING:tensorflow:From /home/ma-user/anaconda3/envs/TensorFlow-1.13.1/lib/python3.6/site-packages/tensorflow/python/training/saver.py:966: remove_checkpoint (from tensorflow.python.training.checkpoint_management) is deprecated and will be removed in a future version.\n",
      "Instructions for updating:\n",
      "Use standard file APIs to delete files with this prefix.\n",
      "INFO:tensorflow:Ignoring --checkpoint_path because a checkpoint already exists in ./cache/log/\n",
      "WARNING:tensorflow:From /home/ma-user/anaconda3/envs/TensorFlow-1.13.1/lib/python3.6/site-packages/tensorflow/python/saved_model/signature_def_utils_impl.py:205: build_tensor_info (from tensorflow.python.saved_model.utils_impl) is deprecated and will be removed in a future version.\n",
      "Instructions for updating:\n",
      "This function will only be available through the v1 compatibility library as tf.compat.v1.saved_model.utils.build_tensor_info or tf.compat.v1.saved_model.build_tensor_info.\n",
      "INFO:tensorflow:No assets to save.\n",
      "INFO:tensorflow:No assets to write.\n",
      "INFO:tensorflow:Restoring parameters from ./cache/log/model.ckpt-1000\n",
      "INFO:tensorflow:SavedModel written to: ./cache/log/model/saved_model.pb\n"
     ]
    }
   ],
   "source": [
    "def main(*args):\n",
    "  flags.data_url = data_url\n",
    "  flags.train_url = train_url\n",
    "  mnist = input_data.read_data_sets(flags.data_url, one_hot=True)\n",
    "        \n",
    "\n",
    "  # define the input dataset, return image and label\n",
    "  def input_fn(run_mode, **kwargs):\n",
    "    def gen():\n",
    "      while True:\n",
    "        yield mnist.train.next_batch(50)\n",
    "    ds = tf.data.Dataset.from_generator(\n",
    "        gen, output_types=(tf.float32, tf.int64),\n",
    "        output_shapes=(tf.TensorShape([None, 784]), tf.TensorShape([None, 10])))\n",
    "    return ds.make_one_shot_iterator().get_next()\n",
    "\n",
    "\n",
    "  # define the model for training or evaling.\n",
    "  def model_fn(inputs, run_mode, **kwargs):\n",
    "    x, y_ = inputs\n",
    "    W = tf.get_variable(name='W', initializer=tf.zeros([784, 10]))\n",
    "    b = tf.get_variable(name='b', initializer=tf.zeros([10]))\n",
    "    y = tf.matmul(x, W) + b\n",
    "    cross_entropy = tf.reduce_mean(\n",
    "      tf.nn.softmax_cross_entropy_with_logits(labels=y_, logits=y))\n",
    "    predictions = tf.argmax(y, 1)\n",
    "    correct_predictions = tf.equal(predictions, tf.argmax(y_, 1))\n",
    "    accuracy = tf.reduce_mean(tf.cast(correct_predictions, tf.float32))\n",
    "    export_spec = mox.ExportSpec(inputs_dict={'images': x}, outputs_dict={'predictions': predictions}, version='model')\n",
    "    return mox.ModelSpec(loss=cross_entropy, log_info={'loss': cross_entropy, 'accuracy': accuracy},\n",
    "                         export_spec=export_spec)\n",
    "\n",
    "\n",
    "  mox.run(input_fn=input_fn,\n",
    "          model_fn=model_fn,\n",
    "          optimizer_fn=mox.get_optimizer_fn('sgd', learning_rate=0.01),\n",
    "          run_mode=mox.ModeKeys.TRAIN,\n",
    "          batch_size=50,\n",
    "          auto_batch=False,\n",
    "          log_dir=flags.train_url,\n",
    "          max_number_of_steps=1000,\n",
    "          log_every_n_steps=10,\n",
    "          export_model=mox.ExportKeys.TF_SERVING)\n",
    "\n",
    "if __name__ == '__main__':\n",
    "  try:\n",
    "      tf.app.run(main=main)\n",
    "  except SystemExit:\n",
    "      pass"
   ]
  },
  {
   "cell_type": "markdown",
   "metadata": {},
   "source": [
    "## 3. Inference"
   ]
  },
  {
   "cell_type": "code",
   "execution_count": 12,
   "metadata": {},
   "outputs": [],
   "source": [
    "src_path = 's3://modelarts-labs/dataset-mnist/data/test.jpg'"
   ]
  },
  {
   "cell_type": "code",
   "execution_count": 13,
   "metadata": {},
   "outputs": [],
   "source": [
    "if not mox.file.exists(src_path):\n",
    "    raise ValueError('Plese verify your src_path!')\n",
    "dst_path =  './cache/test.jpg'\n",
    "mox.file.copy(src_path,dst_path)"
   ]
  },
  {
   "cell_type": "code",
   "execution_count": 14,
   "metadata": {},
   "outputs": [
    {
     "name": "stdout",
     "output_type": "stream",
     "text": [
      "True\n"
     ]
    }
   ],
   "source": [
    "image_path = './cache/test.jpg'            # 指定图片位置\n",
    "checkpoint_url = './cache/log/'         # 指定checkpoint位置，即上一步训练指定的路径的位置。\n",
    "print(mox.file.exists(image_path))"
   ]
  },
  {
   "cell_type": "code",
   "execution_count": 15,
   "metadata": {},
   "outputs": [],
   "source": [
    "import moxing.tensorflow as mox\n",
    "import os\n",
    "import tensorflow as tf\n",
    "from __future__ import print_function\n",
    "from __future__ import unicode_literals"
   ]
  },
  {
   "cell_type": "code",
   "execution_count": 17,
   "metadata": {},
   "outputs": [
    {
     "name": "stderr",
     "output_type": "stream",
     "text": [
      "INFO:tensorflow:Graph was finalized.\n",
      "INFO:tensorflow:Restoring parameters from ./cache/log/model.ckpt-1000\n",
      "INFO:tensorflow:Running local_init_op.\n",
      "INFO:tensorflow:Done running local_init_op.\n",
      "INFO:tensorflow:\t[1 examples]\n"
     ]
    },
    {
     "name": "stdout",
     "output_type": "stream",
     "text": [
      "The result： [7]\n"
     ]
    }
   ],
   "source": [
    "def predict(*args):\n",
    "  def input_fn(run_mode, **kwargs):\n",
    "    image = tf.read_file(image_path)\n",
    "    img = tf.image.decode_jpeg(image, channels=1)\n",
    "    img = tf.image.resize_images(img, [28, 28], 0)\n",
    "    img = tf.reshape(img, [784])\n",
    "    return img\n",
    "\n",
    "  def model_fn(inputs, run_mode, **kwargs):\n",
    "    x = inputs\n",
    "    W1 = tf.get_variable(name='W', initializer=tf.zeros([784, 10]))\n",
    "    b1 = tf.get_variable(name='b', initializer=tf.zeros([10]))\n",
    "    y = tf.matmul(x, W1) + b1\n",
    "    predictions = tf.argmax(y, 1)\n",
    "    return mox.ModelSpec(output_info={'predict': predictions})\n",
    "\n",
    "  def output_fn(outputs):\n",
    "    for output in outputs:\n",
    "      result = output['predict']\n",
    "      print(\"The result：\",result)\n",
    "\n",
    "  mox.run(input_fn=input_fn,\n",
    "          model_fn=model_fn,\n",
    "          output_fn=output_fn,\n",
    "          run_mode=mox.ModeKeys.PREDICT,\n",
    "          batch_size=1,\n",
    "          auto_batch=False,\n",
    "          max_number_of_steps=1,\n",
    "          output_every_n_steps=1,\n",
    "          checkpoint_path=checkpoint_url)\n",
    "if __name__ == '__main__':\n",
    "  try:\n",
    "      tf.app.run(main=predict)\n",
    "  except SystemExit:\n",
    "      pass"
   ]
  },
  {
   "cell_type": "code",
   "execution_count": null,
   "metadata": {},
   "outputs": [],
   "source": []
  }
 ],
 "metadata": {
  "kernelspec": {
   "display_name": "TensorFlow-1.13.1",
   "language": "python",
   "name": "tensorflow-1.13.1"
  },
  "language_info": {
   "codemirror_mode": {
    "name": "ipython",
    "version": 3
   },
   "file_extension": ".py",
   "mimetype": "text/x-python",
   "name": "python",
   "nbconvert_exporter": "python",
   "pygments_lexer": "ipython3",
   "version": "3.6.4"
  }
 },
 "nbformat": 4,
 "nbformat_minor": 4
}
