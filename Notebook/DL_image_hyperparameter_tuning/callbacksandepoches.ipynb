{
 "cells": [
  {
   "cell_type": "code",
   "execution_count": 1,
   "metadata": {},
   "outputs": [
    {
     "name": "stdout",
     "output_type": "stream",
     "text": [
      "Collecting keras_applications==1.0.6\n",
      "  Downloading http://192.168.0.169:8888/repository/pypi/files.pythonhosted.org/https/packages/3f/c4/2ff40221029f7098d58f8d7fb99b97e8100f3293f9856f0fb5834bef100b/Keras_Applications-1.0.6-py2.py3-none-any.whl (44kB)\n",
      "\u001b[K    100% |████████████████████████████████| 51kB 31.8MB/s ta 0:00:01\n",
      "\u001b[?25hRequirement already up-to-date: keras==2.2.4 in /home/ma-user/anaconda3/envs/TensorFlow-1.13.1/lib/python3.6/site-packages\n",
      "Collecting h5py (from keras_applications==1.0.6)\n",
      "  Downloading http://192.168.0.169:8888/repository/pypi/files.pythonhosted.org/https/packages/70/7a/e53e500335afb6b1aade11227cdf107fca54106a1dca5c9d13242a043f3b/h5py-3.1.0-cp36-cp36m-manylinux1_x86_64.whl (4.0MB)\n",
      "\u001b[K    100% |████████████████████████████████| 4.0MB 104.6MB/s ta 0:00:01�██████████████▊             | 2.3MB 85.8MB/s eta 0:00:01\n",
      "\u001b[?25hCollecting numpy>=1.9.1 (from keras_applications==1.0.6)\n",
      "  Downloading http://192.168.0.169:8888/repository/pypi/files.pythonhosted.org/https/packages/45/b2/6c7545bb7a38754d63048c7696804a0d947328125d81bf12beaa692c3ae3/numpy-1.19.5-cp36-cp36m-manylinux1_x86_64.whl (13.4MB)\n",
      "\u001b[K    100% |████████████████████████████████| 13.4MB 75.3MB/s ta 0:00:011████████████▎    | 11.4MB 103.2MB/s eta 0:00:01\n",
      "\u001b[?25hCollecting scipy>=0.14 (from keras==2.2.4)\n",
      "  Downloading http://192.168.0.169:8888/repository/pypi/files.pythonhosted.org/https/packages/c8/89/63171228d5ced148f5ced50305c89e8576ffc695a90b58fe5bb602b910c2/scipy-1.5.4-cp36-cp36m-manylinux1_x86_64.whl (25.9MB)\n",
      "\u001b[K    100% |████████████████████████████████| 25.9MB 106.8MB/s ta 0:00:01       | 2.5MB 80.6MB/s eta 0:00:01██████████▎                     | 8.3MB 96.8MB/s eta 0:00:01��█▏               | 13.1MB 105.3MB/s eta 0:00:01███████████████▎         | 18.0MB 101.9MB/s eta 0:00:01\n",
      "\u001b[?25hCollecting six>=1.9.0 (from keras==2.2.4)\n",
      "  Downloading http://192.168.0.169:8888/repository/pypi/files.pythonhosted.org/https/packages/ee/ff/48bde5c0f013094d729fe4b0316ba2a24774b3ff1c52d924a8a4cb04078a/six-1.15.0-py2.py3-none-any.whl\n",
      "Collecting keras-preprocessing>=1.0.5 (from keras==2.2.4)\n",
      "  Downloading http://192.168.0.169:8888/repository/pypi/files.pythonhosted.org/https/packages/79/4c/7c3275a01e12ef9368a892926ab932b33bb13d55794881e3573482b378a7/Keras_Preprocessing-1.1.2-py2.py3-none-any.whl (42kB)\n",
      "\u001b[K    100% |████████████████████████████████| 51kB 97.3MB/s ta 0:00:01\n",
      "\u001b[?25hCollecting pyyaml (from keras==2.2.4)\n",
      "  Downloading http://192.168.0.169:8888/repository/pypi/files.pythonhosted.org/https/packages/7a/5b/bc0b5ab38247bba158504a410112b6c03f153c652734ece1849749e5f518/PyYAML-5.4.1-cp36-cp36m-manylinux1_x86_64.whl (640kB)\n",
      "\u001b[K    100% |████████████████████████████████| 645kB 116.2MB/s ta 0:00:01\n",
      "\u001b[?25hCollecting cached-property; python_version < \"3.8\" (from h5py->keras_applications==1.0.6)\n",
      "  Downloading http://192.168.0.169:8888/repository/pypi/files.pythonhosted.org/https/packages/48/19/f2090f7dad41e225c7f2326e4cfe6fff49e57dedb5b53636c9551f86b069/cached_property-1.5.2-py2.py3-none-any.whl\n",
      "Installing collected packages: cached-property, numpy, h5py, keras-applications, scipy, six, keras-preprocessing, pyyaml\n",
      "  Found existing installation: numpy 1.16.2\n",
      "    Uninstalling numpy-1.16.2:\n",
      "      Successfully uninstalled numpy-1.16.2\n",
      "  Found existing installation: h5py 2.8.0\n",
      "    Uninstalling h5py-2.8.0:\n",
      "      Successfully uninstalled h5py-2.8.0\n",
      "  Found existing installation: Keras-Applications 1.0.8\n",
      "    Uninstalling Keras-Applications-1.0.8:\n",
      "      Successfully uninstalled Keras-Applications-1.0.8\n",
      "  Found existing installation: scipy 1.2.2\n",
      "    Uninstalling scipy-1.2.2:\n",
      "      Successfully uninstalled scipy-1.2.2\n",
      "  Found existing installation: six 1.11.0\n",
      "    Uninstalling six-1.11.0:\n",
      "      Successfully uninstalled six-1.11.0\n",
      "  Found existing installation: Keras-Preprocessing 1.1.0\n",
      "    Uninstalling Keras-Preprocessing-1.1.0:\n",
      "      Successfully uninstalled Keras-Preprocessing-1.1.0\n",
      "  Found existing installation: PyYAML 3.12\n",
      "    Uninstalling PyYAML-3.12:\n",
      "      Successfully uninstalled PyYAML-3.12\n",
      "Successfully installed cached-property-1.5.2 h5py-3.1.0 keras-applications-1.0.6 keras-preprocessing-1.1.2 numpy-1.19.5 pyyaml-5.4.1 scipy-1.5.4 six-1.15.0\n",
      "\u001b[33mYou are using pip version 9.0.1, however version 21.0.1 is available.\n",
      "You should consider upgrading via the 'pip install --upgrade pip' command.\u001b[0m\n"
     ]
    }
   ],
   "source": [
    "!pip install --upgrade keras_applications==1.0.6 keras==2.2.4"
   ]
  },
  {
   "cell_type": "code",
   "execution_count": 2,
   "metadata": {},
   "outputs": [
    {
     "name": "stdout",
     "output_type": "stream",
     "text": [
      "Successfully download file modelarts-labs/dataset-dog-and-cat-25000/zip-data/dog_and_cat_25000.tar.gz from OBS to local ./dog_and_cat_25000.tar.gz\n"
     ]
    }
   ],
   "source": [
    "import os\n",
    "if os.path.exists('./data') == False:\n",
    "    from modelarts.session import Session\n",
    "    session = Session()\n",
    "    \n",
    "    if session.region_name == 'eu-west-0':\n",
    "        bucket_path=\"modelarts-labs/dataset-dog-and-cat-25000/zip-data/dog_and_cat_25000.tar.gz\"\n",
    "    elif session.region_name == 'cn-north-4':\n",
    "        bucket_path=\"modelarts-labs-bj4/end2end/image_recognition/dog_and_cat_25000.tar.gz\"\n",
    "    else:\n",
    "        print(\"Please swith region to Paris\")\n",
    "        \n",
    "    session.download_data(\n",
    "        bucket_path=bucket_path,\n",
    "        path=\"./dog_and_cat_25000.tar.gz\")\n",
    "\n",
    "    # 使用tar命令解压资源包\n",
    "    !tar xf ./dog_and_cat_25000.tar.gz\n",
    "\n",
    "    # 清理压缩包\n",
    "    !rm -f ./dog_and_cat_25000.tar.gz"
   ]
  },
  {
   "cell_type": "code",
   "execution_count": 3,
   "metadata": {},
   "outputs": [],
   "source": [
    "!mkdir model"
   ]
  },
  {
   "cell_type": "code",
   "execution_count": 4,
   "metadata": {},
   "outputs": [
    {
     "name": "stderr",
     "output_type": "stream",
     "text": [
      "Using TensorFlow backend.\n",
      "/home/ma-user/anaconda3/envs/TensorFlow-1.13.1/lib/python3.6/site-packages/tensorflow/python/framework/dtypes.py:526: FutureWarning: Passing (type, 1) or '1type' as a synonym of type is deprecated; in a future version of numpy, it will be understood as (type, (1,)) / '(1,)type'.\n",
      "  _np_qint8 = np.dtype([(\"qint8\", np.int8, 1)])\n",
      "/home/ma-user/anaconda3/envs/TensorFlow-1.13.1/lib/python3.6/site-packages/tensorflow/python/framework/dtypes.py:527: FutureWarning: Passing (type, 1) or '1type' as a synonym of type is deprecated; in a future version of numpy, it will be understood as (type, (1,)) / '(1,)type'.\n",
      "  _np_quint8 = np.dtype([(\"quint8\", np.uint8, 1)])\n",
      "/home/ma-user/anaconda3/envs/TensorFlow-1.13.1/lib/python3.6/site-packages/tensorflow/python/framework/dtypes.py:528: FutureWarning: Passing (type, 1) or '1type' as a synonym of type is deprecated; in a future version of numpy, it will be understood as (type, (1,)) / '(1,)type'.\n",
      "  _np_qint16 = np.dtype([(\"qint16\", np.int16, 1)])\n",
      "/home/ma-user/anaconda3/envs/TensorFlow-1.13.1/lib/python3.6/site-packages/tensorflow/python/framework/dtypes.py:529: FutureWarning: Passing (type, 1) or '1type' as a synonym of type is deprecated; in a future version of numpy, it will be understood as (type, (1,)) / '(1,)type'.\n",
      "  _np_quint16 = np.dtype([(\"quint16\", np.uint16, 1)])\n",
      "/home/ma-user/anaconda3/envs/TensorFlow-1.13.1/lib/python3.6/site-packages/tensorflow/python/framework/dtypes.py:530: FutureWarning: Passing (type, 1) or '1type' as a synonym of type is deprecated; in a future version of numpy, it will be understood as (type, (1,)) / '(1,)type'.\n",
      "  _np_qint32 = np.dtype([(\"qint32\", np.int32, 1)])\n",
      "/home/ma-user/anaconda3/envs/TensorFlow-1.13.1/lib/python3.6/site-packages/tensorflow/python/framework/dtypes.py:535: FutureWarning: Passing (type, 1) or '1type' as a synonym of type is deprecated; in a future version of numpy, it will be understood as (type, (1,)) / '(1,)type'.\n",
      "  np_resource = np.dtype([(\"resource\", np.ubyte, 1)])\n"
     ]
    }
   ],
   "source": [
    "from keras.applications.vgg16 import VGG16\n",
    "from keras.preprocessing import image\n",
    "import numpy as np\n",
    "\n",
    "from keras.preprocessing import image\n",
    "from keras.models import Model\n",
    "from keras.layers import Dense, GlobalAveragePooling2D\n",
    "from keras import backend as K\n",
    "from keras.models import load_model\n",
    "\n",
    "from keras.preprocessing.image import ImageDataGenerator"
   ]
  },
  {
   "cell_type": "code",
   "execution_count": 5,
   "metadata": {},
   "outputs": [],
   "source": [
    "import os\n",
    "from PIL import Image\n",
    "def load_data():\n",
    "    dirname = \"./data\"\n",
    "    path = \"./data\"\n",
    "\n",
    "    num_train_samples = 25000\n",
    "\n",
    "    x_train = np.empty((num_train_samples, 224,224,3), dtype='uint8')\n",
    "    y_train = np.empty((num_train_samples,1), dtype='uint8')\n",
    "    index = 0\n",
    "    for file in os.listdir(\"./data\"):\n",
    "        image = Image.open(os.path.join(dirname,file)).resize((224,224))\n",
    "        image = np.array(image)\n",
    "        x_train[index,:,:,:] = image\n",
    "\n",
    "        if \"cat\" in file:\n",
    "            y_train[index,0] =1\n",
    "        elif \"dog\" in file:\n",
    "            y_train[index,0] =0\n",
    "\n",
    "        index += 1\n",
    "    return (x_train, y_train)"
   ]
  },
  {
   "cell_type": "code",
   "execution_count": 6,
   "metadata": {},
   "outputs": [],
   "source": [
    "(x_train, y_train) = load_data()"
   ]
  },
  {
   "cell_type": "code",
   "execution_count": 7,
   "metadata": {},
   "outputs": [
    {
     "name": "stdout",
     "output_type": "stream",
     "text": [
      "(25000, 224, 224, 3)\n",
      "(25000, 1)\n"
     ]
    }
   ],
   "source": [
    "print(x_train.shape)\n",
    "print(y_train.shape)"
   ]
  },
  {
   "cell_type": "code",
   "execution_count": 8,
   "metadata": {},
   "outputs": [],
   "source": [
    "from keras.utils import np_utils\n",
    "def process_data(x_train,y_train):\n",
    "    x_train = x_train.astype(np.float32)\n",
    "    x_train /= 255\n",
    "    n_classes = 2\n",
    "    y_train = np_utils.to_categorical(y_train, n_classes)\n",
    "    return x_train,y_train"
   ]
  },
  {
   "cell_type": "code",
   "execution_count": 9,
   "metadata": {},
   "outputs": [
    {
     "name": "stdout",
     "output_type": "stream",
     "text": [
      "(25000, 224, 224, 3)\n",
      "(25000, 2)\n"
     ]
    }
   ],
   "source": [
    "x_train,y_train= process_data(x_train,y_train)\n",
    "print(x_train.shape)\n",
    "print(y_train.shape)"
   ]
  },
  {
   "cell_type": "code",
   "execution_count": 10,
   "metadata": {},
   "outputs": [],
   "source": [
    "def build_model(base_model):\n",
    "    x = base_model.output\n",
    "    x = GlobalAveragePooling2D()(x)\n",
    "    predictions = Dense(2, activation='softmax')(x)\n",
    "    model = Model(inputs=base_model.input, outputs=predictions)\n",
    "    print(type(model))\n",
    "    return model"
   ]
  },
  {
   "cell_type": "code",
   "execution_count": 11,
   "metadata": {},
   "outputs": [
    {
     "name": "stderr",
     "output_type": "stream",
     "text": [
      "WARNING:tensorflow:From /home/ma-user/anaconda3/envs/TensorFlow-1.13.1/lib/python3.6/site-packages/tensorflow/python/framework/op_def_library.py:263: colocate_with (from tensorflow.python.framework.ops) is deprecated and will be removed in a future version.\n",
      "Instructions for updating:\n",
      "Colocations handled automatically by placer.\n"
     ]
    }
   ],
   "source": [
    "base_model = VGG16(weights=None, include_top=False)"
   ]
  },
  {
   "cell_type": "code",
   "execution_count": 12,
   "metadata": {},
   "outputs": [
    {
     "name": "stdout",
     "output_type": "stream",
     "text": [
      "<class 'keras.engine.training.Model'>\n",
      "_________________________________________________________________\n",
      "Layer (type)                 Output Shape              Param #   \n",
      "=================================================================\n",
      "input_1 (InputLayer)         (None, None, None, 3)     0         \n",
      "_________________________________________________________________\n",
      "block1_conv1 (Conv2D)        (None, None, None, 64)    1792      \n",
      "_________________________________________________________________\n",
      "block1_conv2 (Conv2D)        (None, None, None, 64)    36928     \n",
      "_________________________________________________________________\n",
      "block1_pool (MaxPooling2D)   (None, None, None, 64)    0         \n",
      "_________________________________________________________________\n",
      "block2_conv1 (Conv2D)        (None, None, None, 128)   73856     \n",
      "_________________________________________________________________\n",
      "block2_conv2 (Conv2D)        (None, None, None, 128)   147584    \n",
      "_________________________________________________________________\n",
      "block2_pool (MaxPooling2D)   (None, None, None, 128)   0         \n",
      "_________________________________________________________________\n",
      "block3_conv1 (Conv2D)        (None, None, None, 256)   295168    \n",
      "_________________________________________________________________\n",
      "block3_conv2 (Conv2D)        (None, None, None, 256)   590080    \n",
      "_________________________________________________________________\n",
      "block3_conv3 (Conv2D)        (None, None, None, 256)   590080    \n",
      "_________________________________________________________________\n",
      "block3_pool (MaxPooling2D)   (None, None, None, 256)   0         \n",
      "_________________________________________________________________\n",
      "block4_conv1 (Conv2D)        (None, None, None, 512)   1180160   \n",
      "_________________________________________________________________\n",
      "block4_conv2 (Conv2D)        (None, None, None, 512)   2359808   \n",
      "_________________________________________________________________\n",
      "block4_conv3 (Conv2D)        (None, None, None, 512)   2359808   \n",
      "_________________________________________________________________\n",
      "block4_pool (MaxPooling2D)   (None, None, None, 512)   0         \n",
      "_________________________________________________________________\n",
      "block5_conv1 (Conv2D)        (None, None, None, 512)   2359808   \n",
      "_________________________________________________________________\n",
      "block5_conv2 (Conv2D)        (None, None, None, 512)   2359808   \n",
      "_________________________________________________________________\n",
      "block5_conv3 (Conv2D)        (None, None, None, 512)   2359808   \n",
      "_________________________________________________________________\n",
      "block5_pool (MaxPooling2D)   (None, None, None, 512)   0         \n",
      "_________________________________________________________________\n",
      "global_average_pooling2d_1 ( (None, 512)               0         \n",
      "_________________________________________________________________\n",
      "dense_1 (Dense)              (None, 2)                 1026      \n",
      "=================================================================\n",
      "Total params: 14,715,714\n",
      "Trainable params: 14,715,714\n",
      "Non-trainable params: 0\n",
      "_________________________________________________________________\n"
     ]
    }
   ],
   "source": [
    "model = build_model(base_model)\n",
    "model.summary()"
   ]
  },
  {
   "cell_type": "code",
   "execution_count": 13,
   "metadata": {},
   "outputs": [],
   "source": [
    "import keras \n",
    "opt = keras.optimizers.rmsprop(lr=0.0001, decay=1e-6)\n",
    "model.compile(loss='binary_crossentropy',\n",
    "              optimizer=opt,\n",
    "              metrics=['accuracy'])"
   ]
  },
  {
   "cell_type": "code",
   "execution_count": 14,
   "metadata": {},
   "outputs": [],
   "source": [
    "from keras.callbacks import ModelCheckpoint, EarlyStopping, ReduceLROnPlateau\n",
    "es = EarlyStopping(monitor='val_acc', min_delta=0.001, patience=5, verbose=1, mode='auto')\n",
    "cp = ModelCheckpoint(filepath=\"./model/ckp_vgg16_dog_and_cat.h5\", monitor=\"val_acc\", verbose=1, save_best_only=True, mode=\"auto\", period=1)\n",
    "lr = ReduceLROnPlateau(monitor=\"val_acc\", factor=0.1, patience=3, verbose=1, mode=\"auto\", min_lr=0)\n",
    "callbacks = [es,cp,lr]"
   ]
  },
  {
   "cell_type": "code",
   "execution_count": 15,
   "metadata": {},
   "outputs": [
    {
     "name": "stderr",
     "output_type": "stream",
     "text": [
      "WARNING:tensorflow:From /home/ma-user/anaconda3/envs/TensorFlow-1.13.1/lib/python3.6/site-packages/tensorflow/python/ops/math_ops.py:3066: to_int32 (from tensorflow.python.ops.math_ops) is deprecated and will be removed in a future version.\n",
      "Instructions for updating:\n",
      "Use tf.cast instead.\n"
     ]
    },
    {
     "name": "stdout",
     "output_type": "stream",
     "text": [
      "Train on 18750 samples, validate on 6250 samples\n",
      "Epoch 1/5\n",
      "18750/18750 [==============================] - 125s 7ms/step - loss: 0.6637 - acc: 0.5947 - val_loss: 0.6614 - val_acc: 0.6125\n",
      "\n",
      "Epoch 00001: val_acc improved from -inf to 0.61248, saving model to ./model/ckp_vgg16_dog_and_cat.h5\n",
      "Epoch 2/5\n",
      "18750/18750 [==============================] - 102s 5ms/step - loss: 0.5841 - acc: 0.6943 - val_loss: 0.5800 - val_acc: 0.6472\n",
      "\n",
      "Epoch 00002: val_acc improved from 0.61248 to 0.64720, saving model to ./model/ckp_vgg16_dog_and_cat.h5\n",
      "Epoch 3/5\n",
      "18750/18750 [==============================] - 102s 5ms/step - loss: 0.4461 - acc: 0.7918 - val_loss: 0.4924 - val_acc: 0.7794\n",
      "\n",
      "Epoch 00003: val_acc improved from 0.64720 to 0.77936, saving model to ./model/ckp_vgg16_dog_and_cat.h5\n",
      "Epoch 4/5\n",
      "18750/18750 [==============================] - 102s 5ms/step - loss: 0.3507 - acc: 0.8437 - val_loss: 0.3008 - val_acc: 0.8682\n",
      "\n",
      "Epoch 00004: val_acc improved from 0.77936 to 0.86816, saving model to ./model/ckp_vgg16_dog_and_cat.h5\n",
      "Epoch 5/5\n",
      "18750/18750 [==============================] - 102s 5ms/step - loss: 0.2989 - acc: 0.8719 - val_loss: 0.2800 - val_acc: 0.8789\n",
      "\n",
      "Epoch 00005: val_acc improved from 0.86816 to 0.87888, saving model to ./model/ckp_vgg16_dog_and_cat.h5\n"
     ]
    }
   ],
   "source": [
    "history = model.fit(x=x_train, \n",
    "                  y=y_train, \n",
    "                  batch_size=16, \n",
    "                  epochs=5, \n",
    "                  verbose=1, \n",
    "                  callbacks=callbacks, \n",
    "                  validation_split=0.25, \n",
    "                  shuffle=True, \n",
    "                  initial_epoch=0, \n",
    "                 )"
   ]
  },
  {
   "cell_type": "code",
   "execution_count": 18,
   "metadata": {},
   "outputs": [
    {
     "data": {
      "image/png": "[encoded data removed]",
      "text/plain": [
       "<Figure size 432x288 with 1 Axes>"
      ]
     },
     "metadata": {},
     "output_type": "display_data"
    }
   ],
   "source": [
    "import matplotlib.pyplot as plt\n",
    "\n",
    "# 绘制训练 & 验证的准确率值\n",
    "plt.plot(history.history['acc'])\n",
    "plt.plot(history.history['val_acc'])\n",
    "plt.title('Model accuracy')\n",
    "plt.ylabel('Accuracy')\n",
    "plt.xlabel('Epoch')\n",
    "plt.legend(['Train', 'Test'], loc='upper left')\n",
    "plt.show()"
   ]
  },
  {
   "cell_type": "code",
   "execution_count": 17,
   "metadata": {},
   "outputs": [
    {
     "data": {
      "image/png": "[encoded data removed]",
      "text/plain": [
       "<Figure size 432x288 with 1 Axes>"
      ]
     },
     "metadata": {},
     "output_type": "display_data"
    }
   ],
   "source": [
    "plt.plot(history.history['loss'])\n",
    "plt.plot(history.history['val_loss'])\n",
    "plt.title('Model loss')\n",
    "plt.ylabel('Loss')\n",
    "plt.xlabel('Epoch')\n",
    "plt.legend(['Train', 'Test'], loc='upper left')\n",
    "plt.show()"
   ]
  },
  {
   "cell_type": "code",
   "execution_count": 19,
   "metadata": {},
   "outputs": [
    {
     "name": "stdout",
     "output_type": "stream",
     "text": [
      "Train on 18750 samples, validate on 6250 samples\n",
      "Epoch 1/5\n",
      "18750/18750 [==============================] - 103s 6ms/step - loss: 0.2634 - acc: 0.8907 - val_loss: 0.2393 - val_acc: 0.9005\n",
      "\n",
      "Epoch 00001: val_acc improved from 0.87888 to 0.90048, saving model to ./model/ckp_vgg16_dog_and_cat.h5\n",
      "Epoch 2/5\n",
      "18750/18750 [==============================] - 103s 6ms/step - loss: 0.2325 - acc: 0.9025 - val_loss: 0.2978 - val_acc: 0.8858\n",
      "\n",
      "Epoch 00002: val_acc did not improve from 0.90048\n",
      "Epoch 3/5\n",
      "18750/18750 [==============================] - 103s 6ms/step - loss: 0.2046 - acc: 0.9172 - val_loss: 0.2008 - val_acc: 0.9219\n",
      "\n",
      "Epoch 00003: val_acc improved from 0.90048 to 0.92192, saving model to ./model/ckp_vgg16_dog_and_cat.h5\n",
      "Epoch 4/5\n",
      "18750/18750 [==============================] - 103s 6ms/step - loss: 0.1863 - acc: 0.9254 - val_loss: 0.1917 - val_acc: 0.9214\n",
      "\n",
      "Epoch 00004: val_acc did not improve from 0.92192\n",
      "Epoch 5/5\n",
      "18750/18750 [==============================] - 103s 6ms/step - loss: 0.1674 - acc: 0.9370 - val_loss: 0.1726 - val_acc: 0.9317\n",
      "\n",
      "Epoch 00005: val_acc improved from 0.92192 to 0.93168, saving model to ./model/ckp_vgg16_dog_and_cat.h5\n"
     ]
    }
   ],
   "source": [
    "history_more_steps = model.fit(x=x_train, \n",
    "                  y=y_train, \n",
    "                  batch_size=16, \n",
    "                  epochs=5, \n",
    "                  verbose=1, \n",
    "                  callbacks=callbacks, \n",
    "                  validation_split=0.25, \n",
    "                  shuffle=True, \n",
    "                  initial_epoch=0, \n",
    "                 )"
   ]
  },
  {
   "cell_type": "code",
   "execution_count": 20,
   "metadata": {},
   "outputs": [
    {
     "data": {
      "image/png": "[encoded data removed]",
      "text/plain": [
       "<Figure size 432x288 with 1 Axes>"
      ]
     },
     "metadata": {},
     "output_type": "display_data"
    }
   ],
   "source": [
    "import matplotlib.pyplot as plt\n",
    "\n",
    "# 绘制训练 & 验证的准确率值\n",
    "plt.plot(history_more_steps.history['acc'])\n",
    "plt.plot(history_more_steps.history['val_acc'])\n",
    "plt.title('Model accuracy')\n",
    "plt.ylabel('Accuracy')\n",
    "plt.xlabel('Epoch')\n",
    "plt.legend(['Train', 'Test'], loc='upper left')\n",
    "plt.show()"
   ]
  },
  {
   "cell_type": "code",
   "execution_count": 21,
   "metadata": {},
   "outputs": [
    {
     "data": {
      "image/png": "[encoded data removed]",
      "text/plain": [
       "<Figure size 432x288 with 1 Axes>"
      ]
     },
     "metadata": {},
     "output_type": "display_data"
    }
   ],
   "source": [
    "# 绘制训练 & 验证的损失值\n",
    "plt.plot(history_more_steps.history['loss'])\n",
    "plt.plot(history_more_steps.history['val_loss'])\n",
    "plt.title('Model loss')\n",
    "plt.ylabel('Loss')\n",
    "plt.xlabel('Epoch')\n",
    "plt.legend(['Train', 'Test'], loc='upper left')\n",
    "plt.show()"
   ]
  },
  {
   "cell_type": "code",
   "execution_count": 22,
   "metadata": {},
   "outputs": [],
   "source": [
    "es = EarlyStopping(monitor='val_acc', min_delta=0.001, patience=1, verbose=1, mode='auto')\n",
    "cp = ModelCheckpoint(filepath=\"./model/ckp_vgg16_dog_and_cat.h5\", monitor=\"val_acc\", verbose=1, save_best_only=True, mode=\"auto\", period=1)\n",
    "lr = ReduceLROnPlateau(monitor=\"val_acc\", factor=0.1, patience=3, verbose=1, mode=\"auto\", min_lr=0)\n",
    "callbacks = [es,cp,lr]"
   ]
  },
  {
   "cell_type": "code",
   "execution_count": 23,
   "metadata": {},
   "outputs": [
    {
     "name": "stdout",
     "output_type": "stream",
     "text": [
      "Train on 18750 samples, validate on 6250 samples\n",
      "Epoch 1/20\n",
      "18750/18750 [==============================] - 103s 6ms/step - loss: 0.1588 - acc: 0.9393 - val_loss: 0.1752 - val_acc: 0.9256\n",
      "\n",
      "Epoch 00001: val_acc improved from -inf to 0.92560, saving model to ./model/ckp_vgg16_dog_and_cat.h5\n",
      "Epoch 2/20\n",
      "18750/18750 [==============================] - 103s 6ms/step - loss: 0.1470 - acc: 0.9444 - val_loss: 0.1942 - val_acc: 0.9285\n",
      "\n",
      "Epoch 00002: val_acc improved from 0.92560 to 0.92848, saving model to ./model/ckp_vgg16_dog_and_cat.h5\n",
      "Epoch 3/20\n",
      "18750/18750 [==============================] - 103s 6ms/step - loss: 0.1385 - acc: 0.9495 - val_loss: 0.1590 - val_acc: 0.9398\n",
      "\n",
      "Epoch 00003: val_acc improved from 0.92848 to 0.93984, saving model to ./model/ckp_vgg16_dog_and_cat.h5\n",
      "Epoch 4/20\n",
      "18750/18750 [==============================] - 103s 6ms/step - loss: 0.1392 - acc: 0.9502 - val_loss: 0.1809 - val_acc: 0.9373\n",
      "\n",
      "Epoch 00004: val_acc did not improve from 0.93984\n",
      "Epoch 00004: early stopping\n"
     ]
    }
   ],
   "source": [
    "history_steps_15 = model.fit(x=x_train, \n",
    "                  y=y_train, \n",
    "                  batch_size=16, \n",
    "                  epochs=20, \n",
    "                  verbose=1, \n",
    "                  callbacks=callbacks, \n",
    "                  validation_split=0.25, \n",
    "                  shuffle=True, \n",
    "                  initial_epoch=0, \n",
    "                 )"
   ]
  },
  {
   "cell_type": "code",
   "execution_count": 24,
   "metadata": {},
   "outputs": [
    {
     "data": {
      "image/png": "[encoded data removed]",
      "text/plain": [
       "<Figure size 432x288 with 1 Axes>"
      ]
     },
     "metadata": {},
     "output_type": "display_data"
    }
   ],
   "source": [
    "\n",
    "plt.plot(history_steps_15.history['loss'])\n",
    "plt.plot(history_steps_15.history['val_loss'])\n",
    "plt.title('Model loss')\n",
    "plt.ylabel('Loss')\n",
    "plt.xlabel('Epoch')\n",
    "plt.legend(['Train', 'Test'], loc='upper left')\n",
    "plt.show()"
   ]
  },
  {
   "cell_type": "code",
   "execution_count": 25,
   "metadata": {},
   "outputs": [
    {
     "data": {
      "image/png": "[encoded data removed]",
      "text/plain": [
       "<Figure size 432x288 with 1 Axes>"
      ]
     },
     "metadata": {},
     "output_type": "display_data"
    }
   ],
   "source": [
    "plt.plot(history_steps_15.history['acc'])\n",
    "plt.plot(history_steps_15.history['val_acc'])\n",
    "plt.title('Model accuracy')\n",
    "plt.ylabel('Accuracy')\n",
    "plt.xlabel('Epoch')\n",
    "plt.legend(['Train', 'Test'], loc='upper left')\n",
    "plt.show()"
   ]
  },
  {
   "cell_type": "code",
   "execution_count": null,
   "metadata": {},
   "outputs": [],
   "source": []
  }
 ],
 "metadata": {
  "kernelspec": {
   "display_name": "TensorFlow-1.13.1",
   "language": "python",
   "name": "tensorflow-1.13.1"
  },
  "language_info": {
   "codemirror_mode": {
    "name": "ipython",
    "version": 3
   },
   "file_extension": ".py",
   "mimetype": "text/x-python",
   "name": "python",
   "nbconvert_exporter": "python",
   "pygments_lexer": "ipython3",
   "version": "3.6.4"
  }
 },
 "nbformat": 4,
 "nbformat_minor": 4
}
